{
 "cells": [
  {
   "cell_type": "code",
   "execution_count": null,
   "metadata": {
    "execution": {
     "iopub.execute_input": "2023-02-22T23:00:27.157834Z",
     "iopub.status.busy": "2023-02-22T23:00:27.156915Z",
     "iopub.status.idle": "2023-02-22T23:00:54.490501Z",
     "shell.execute_reply": "2023-02-22T23:00:54.489005Z",
     "shell.execute_reply.started": "2023-02-22T23:00:27.157722Z"
    }
   },
   "outputs": [],
   "source": [
    "!pip install networkx\n",
    "#!pip install mip\n",
    "!pip install gurobipy"
   ]
  },
  {
   "cell_type": "code",
   "execution_count": null,
   "metadata": {
    "execution": {
     "iopub.execute_input": "2023-02-22T23:01:29.940302Z",
     "iopub.status.busy": "2023-02-22T23:01:29.939827Z",
     "iopub.status.idle": "2023-02-22T23:01:30.071469Z",
     "shell.execute_reply": "2023-02-22T23:01:30.070386Z",
     "shell.execute_reply.started": "2023-02-22T23:01:29.940268Z"
    }
   },
   "outputs": [],
   "source": [
    "import random\n",
    "import matplotlib.pyplot as plt\n",
    "from scipy.sparse import coo_matrix\n",
    "from itertools import islice\n",
    "from math import ceil\n",
    "import networkx as nx\n",
    "import numpy as np\n",
    "import time\n",
    "import gurobipy as gp\n",
    "from gurobipy import GRB\n",
    "import math\n",
    "#import mip \n",
    "#from mip import BINARY, INTEGER"
   ]
  },
  {
   "cell_type": "code",
   "execution_count": null,
   "metadata": {
    "execution": {
     "iopub.execute_input": "2023-02-22T23:01:33.935629Z",
     "iopub.status.busy": "2023-02-22T23:01:33.934679Z",
     "iopub.status.idle": "2023-02-22T23:01:34.393264Z",
     "shell.execute_reply": "2023-02-22T23:01:34.391893Z",
     "shell.execute_reply.started": "2023-02-22T23:01:33.935582Z"
    }
   },
   "outputs": [],
   "source": [
    "#seeds\n",
    "seed = 9\n",
    "random.seed(seed)\n",
    "np.random.seed(seed)\n",
    "\n",
    "#topology\n",
    "Nodes = 4\n",
    "dens = 0.5 # persentage of ones (links)\n",
    "\n",
    "#DISTANCES \n",
    "b = np.random.random_integers(150,450,size=(Nodes,Nodes))\n",
    "Mask = np.random.choice([0, 1], size=(Nodes,Nodes), p=[1-dens, dens])\n",
    "c = np.multiply(b, Mask)\n",
    "\n",
    "A = ((c + c.T)/2).astype(int)\n",
    "np.fill_diagonal(A,0)\n",
    "\n",
    "print('Adjasency matrix:\\n',  A)\n",
    "print('Mean length: ', np.mean(A))\n",
    "print('Max length: ', np.max(A))\n",
    "\n",
    "\n",
    "#G = nx.from_numpy_matrix(A)\n",
    "G = nx.from_numpy_matrix(A, parallel_edges=False, create_using= nx.DiGraph)\n",
    "\n",
    "N = list(G.nodes())#set of nodes\n",
    "E = list(G.edges())#set of edges\n",
    "len_e = nx.get_edge_attributes(G,'weight')# set of lengths of each edge (dict)\n",
    "      \n",
    "print(\"Edge set: \",G.edges())\n",
    "print('Number of nodes: ', nx.number_of_nodes(G))\n",
    "print('Number of edges: ', nx.number_of_edges(G))\n",
    "\n",
    "\n",
    "pos=nx.spring_layout(G)\n",
    "nx.draw(G, pos, with_labels=True, font_weight='bold')\n",
    "edge_weight = nx.get_edge_attributes(G,'weight')\n",
    "nx.draw_networkx_edge_labels(G, pos, edge_labels = edge_weight)\n",
    "plt.show()"
   ]
  },
  {
   "cell_type": "code",
   "execution_count": null,
   "metadata": {},
   "outputs": [],
   "source": [
    "def clear_spectrum(G, num_slots):\n",
    "    # occupation of all the channels of all the links is initially zero\n",
    "    for link in G.edges:\n",
    "        G.edges[link]['spectrum_slots'] = [0] * num_slots"
   ]
  },
  {
   "cell_type": "code",
   "execution_count": null,
   "metadata": {
    "execution": {
     "iopub.execute_input": "2023-02-22T23:01:51.556279Z",
     "iopub.status.busy": "2023-02-22T23:01:51.555818Z",
     "iopub.status.idle": "2023-02-22T23:01:51.589155Z",
     "shell.execute_reply": "2023-02-22T23:01:51.587524Z",
     "shell.execute_reply.started": "2023-02-22T23:01:51.556238Z"
    }
   },
   "outputs": [],
   "source": [
    "def k_shortest_paths(G, N, k):\n",
    "    len_p = {}#length of each precomputed path for the demand set\n",
    "    paths_dict = {}\n",
    "    for src_id in N:\n",
    "        for dst_id in N:\n",
    "            if src_id == dst_id:\n",
    "                continue        \n",
    "            paths_dict[(src_id, dst_id)] = list(islice(nx.shortest_simple_paths(G, src_id, dst_id, weight='weight'), k)) \n",
    "            paths_list = paths_dict[(src_id, dst_id)]\n",
    "            len_p[(src_id, dst_id)] = [nx.path_weight(G, path, weight=\"weight\") for path in paths_list]\n",
    "    return paths_dict, len_p"
   ]
  },
  {
   "cell_type": "code",
   "execution_count": null,
   "metadata": {},
   "outputs": [],
   "source": [
    "def choose_MF(G, path, path_length, traffic):\n",
    "    # {traffic_request_Gbit/s: [(maximum_reach, number_of_slots)]}\n",
    "    MF_option = {200: (900, 2), 400: (600, 3)}\n",
    "    ##############################################################################\n",
    "    # rest of the function will be written by students\n",
    "    min_slots = 1e6\n",
    "    num_reg = 0\n",
    "    traffic_G = 200*ceil(traffic/200)\n",
    "    # choose option with lowest number of slots with reach higher than path length\n",
    "    max_reach, num_slots = MF_option[traffic_G]\n",
    "    if path_length <= max_reach and num_slots < min_slots:\n",
    "        min_slots = num_slots\n",
    "    elif path_length > max_reach and num_slots < min_slots:#regeneration \n",
    "        min_slots = ceil(path_length/max_reach)\n",
    "        num_reg = ceil(path_length/max_reach)-1\n",
    "    return min_slots, num_reg"
   ]
  },
  {
   "cell_type": "code",
   "execution_count": null,
   "metadata": {},
   "outputs": [],
   "source": [
    "def First_Fit(G, path, num_slots):\n",
    "    '''find the first num_slots-wide free spectrum segment along the path'''\n",
    "    slots_in_band = len(G.edges[(1, 2)]['spectrum_slots'])\n",
    "    for first_slot in range(slots_in_band - num_slots + 1):\n",
    "        spectrum_is_free = True\n",
    "        for link in zip(path, path[1:]):\n",
    "            if sum(G.edges[link]['spectrum_slots'][first_slot : first_slot + num_slots]) != 0:\n",
    "                spectrum_is_free = False\n",
    "                break\n",
    "        if spectrum_is_free:\n",
    "            return first_slot\n",
    "    return None"
   ]
  },
  {
   "cell_type": "code",
   "execution_count": null,
   "metadata": {},
   "outputs": [],
   "source": [
    "def occupy_spectrum(G, path, first_slot, num_slots):\n",
    "    for link in zip(path, path[1:]):\n",
    "        for slot_shift in range(num_slots):\n",
    "            G.edges[link]['spectrum_slots'][first_slot + slot_shift] = 1"
   ]
  },
  {
   "cell_type": "code",
   "execution_count": null,
   "metadata": {},
   "outputs": [],
   "source": [
    "def spectrum_occupation(G, E):\n",
    "    num_slots_occupied = 0\n",
    "    for link in E:\n",
    "        num_slots_occupied += sum(G.edges[link]['spectrum_slots'])\n",
    "    return num_slots_occupied"
   ]
  },
  {
   "cell_type": "code",
   "execution_count": null,
   "metadata": {},
   "outputs": [],
   "source": [
    "def k_shortest_path_first_fit_RSA(G, k_SP_dict, path_lengths, traffic_dict):\n",
    "    chosen_paths = []\n",
    "    num_reg = 0\n",
    "    lost_traffic = 0\n",
    "    # find route and spectrum allocation for every demand\n",
    "    for (src_id, dst_id), traffic_G_list in traffic_dict.items():\n",
    "        for traffic_G in traffic_G_list: # iter over traffic\n",
    "            chosen_paths.append(-1)\n",
    "            # sequentially check candidate paths\n",
    "            for path_ind, path in enumerate(k_SP_dict[(src_id, dst_id)]):\n",
    "                # choose MF that provisions traffic with lowest spectrum occupation\n",
    "                path_length = path_lengths[((src_id, dst_id))][path_ind]\n",
    "                num_slots, reg = choose_MF(G, path, path_length, traffic_G) \n",
    "                num_reg+=reg\n",
    "                # find first available spectrum channel along this path\n",
    "                first_slot = First_Fit(G, path, num_slots)\n",
    "                # spectrum found\n",
    "                if first_slot != None:\n",
    "                    occupy_spectrum(G, path, first_slot, num_slots)\n",
    "                    chosen_paths[-1] = path_ind\n",
    "                    break\n",
    "                else:\n",
    "                    lost_traffic+=traffic_G\n",
    "    return chosen_paths, num_reg, lost_traffic"
   ]
  },
  {
   "cell_type": "code",
   "execution_count": null,
   "metadata": {},
   "outputs": [],
   "source": [
    "class DemandList(dict):\n",
    "    def __setitem__(self, key, value):\n",
    "        try:\n",
    "            # Assumes there is a list on the key\n",
    "            self[key].append(value)\n",
    "        except KeyError: # If it fails, because there is no key\n",
    "            super(DemandList, self).__setitem__(key, value)\n",
    "        except AttributeError: # If it fails because it is not a list\n",
    "            super(DemandList, self).__setitem__(key, [self[key], value])\n"
   ]
  },
  {
   "cell_type": "code",
   "execution_count": null,
   "metadata": {},
   "outputs": [],
   "source": [
    "def GenTraff(demands, Nodes):\n",
    "    D = DemandList() # tuple of 3 values: s, d, b <-SET OF DEMANDS\n",
    "    for d in range(demands):\n",
    "        s_d = random.sample(range(0, Nodes), 2)\n",
    "        D[(s_d[0], s_d[1])] = np.random.choice([100,150,200,250,300,350,400])\n",
    "    return D"
   ]
  },
  {
   "cell_type": "code",
   "execution_count": null,
   "metadata": {},
   "outputs": [],
   "source": [
    "import time\n",
    "#init\n",
    "Capacity = 4.4*(10**3) #4.8THz\n",
    "slice_width = 25# GHz\n",
    "num_slots = int(Capacity/slice_width)\n",
    "demands = 350 #initial number of demands\n",
    "k = 4\n",
    "mc = 1000\n",
    "\n",
    "block_prob_mean = []\n",
    "block_prob_confidence = []#95%\n",
    "cost_mean = []\n",
    "cost_confidence = []#95%\n",
    "offered_traff_mean = []\n",
    "\n",
    " D = GenTraff(demands, Nodes)\n",
    "\n",
    "offered_traff =sum( sum(x) for x in D.values() ) \n",
    "print('Total offered traffic [Gbps]: ', offered_traff)\n",
    "clear_spectrum(G, num_slots)\n",
    "        \n",
    "paths_dict, len_p = k_shortest_paths(G, N, k)\n",
    "SP_solution, num_reg, lost_traffic = k_shortest_path_first_fit_RSA(G, paths_dict,len_p, D)\n",
    "\n",
    "print('Ratio of routed requests:', 1 - SP_solution.count(-1) / len(SP_solution))\n",
    "print('Blocking probability:', lost_traffic / offered_traff)\n",
    "print('Slots occupied:', spectrum_occupation(G, E))\n",
    "print('Total cost:', 2*num_reg)\n",
    "print(SP_solution)"
   ]
  },
  {
   "cell_type": "code",
   "execution_count": null,
   "metadata": {},
   "outputs": [],
   "source": [
    "block_prob_mean"
   ]
  }
 ],
 "metadata": {
  "kernelspec": {
   "display_name": "Python 3 (ipykernel)",
   "language": "python",
   "name": "python3"
  },
  "language_info": {
   "codemirror_mode": {
    "name": "ipython",
    "version": 3
   },
   "file_extension": ".py",
   "mimetype": "text/x-python",
   "name": "python",
   "nbconvert_exporter": "python",
   "pygments_lexer": "ipython3",
   "version": "3.9.7"
  }
 },
 "nbformat": 4,
 "nbformat_minor": 4
}
