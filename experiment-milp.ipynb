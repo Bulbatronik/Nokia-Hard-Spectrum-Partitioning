{
 "cells": [
  {
   "cell_type": "markdown",
   "metadata": {},
   "source": [
    "## MILP Formulation\n",
    "\n",
    "This notebook aims to frame the problem in terms of Mixed Integer Linear Programming (MILP). The formulation is similar to the one provided in [this paper](https://ieeexplore.ieee.org/document/7519053). The tool to solve the optimization problem is [Gurobi](https://www.gurobi.com/documentation/current/refman/py_python_api_overview.html). `The notebook might fail to accurately and efficiently compute the solution, as the number of variables and constraints is huge, making the optimization problem particularly challenging.` In this case, a heuristic approach is commonly adopted, which are covered in [experiment.ipynb](experiment.ipynb)."
   ]
  },
  {
   "cell_type": "code",
   "execution_count": null,
   "metadata": {
    "execution": {
     "iopub.execute_input": "2023-02-22T23:00:27.157834Z",
     "iopub.status.busy": "2023-02-22T23:00:27.156915Z",
     "iopub.status.idle": "2023-02-22T23:00:54.490501Z",
     "shell.execute_reply": "2023-02-22T23:00:54.489005Z",
     "shell.execute_reply.started": "2023-02-22T23:00:27.157722Z"
    }
   },
   "outputs": [],
   "source": [
    "#!pip install gurobipy"
   ]
  },
  {
   "cell_type": "code",
   "execution_count": 2,
   "metadata": {
    "execution": {
     "iopub.execute_input": "2023-02-22T23:01:29.940302Z",
     "iopub.status.busy": "2023-02-22T23:01:29.939827Z",
     "iopub.status.idle": "2023-02-22T23:01:30.071469Z",
     "shell.execute_reply": "2023-02-22T23:01:30.070386Z",
     "shell.execute_reply.started": "2023-02-22T23:01:29.940268Z"
    }
   },
   "outputs": [],
   "source": [
    "import time\n",
    "import random\n",
    "\n",
    "from math import ceil\n",
    "\n",
    "import numpy as np\n",
    "import networkx as nx\n",
    "\n",
    "import gurobipy as gp\n",
    "from gurobipy import GRB\n",
    "\n",
    "from algorithms.utils import k_shortest_paths"
   ]
  },
  {
   "cell_type": "code",
   "execution_count": null,
   "metadata": {},
   "outputs": [],
   "source": [
    "seed = 9\n",
    "random.seed(seed)\n",
    "np.random.seed(seed)"
   ]
  },
  {
   "cell_type": "code",
   "execution_count": null,
   "metadata": {},
   "outputs": [],
   "source": [
    "# Select the topology\n",
    "TOPOLOGY = 'National' # 'Continental'\n",
    "# Select spectrum partitioning\n",
    "PARTITIONING = 'Hard' # 'Hard'\n",
    "# Select the algorithm to be used\n",
    "ALGORITHM = 'FF' # 'FF'\n",
    "\n",
    "# Density of the network (wrt fully connected graph)\n",
    "density = 0.5\n",
    "# Capacity of the network links (THz)\n",
    "CAPACITY = 4.4*(10**3) \n",
    "# Slice width (GHz) (used for section of 50 GHz (2 slices) or 75 GHz (3 slices))\n",
    "slot_width = 25 \n",
    "# Number of slots in the network\n",
    "num_slots = int(CAPACITY/slot_width)\n",
    "\n",
    "# Number of shortest paths to be considered\n",
    "k = 4 "
   ]
  },
  {
   "cell_type": "code",
   "execution_count": null,
   "metadata": {
    "execution": {
     "iopub.execute_input": "2023-02-22T23:01:33.935629Z",
     "iopub.status.busy": "2023-02-22T23:01:33.934679Z",
     "iopub.status.idle": "2023-02-22T23:01:34.393264Z",
     "shell.execute_reply": "2023-02-22T23:01:34.391893Z",
     "shell.execute_reply.started": "2023-02-22T23:01:33.935582Z"
    }
   },
   "outputs": [],
   "source": [
    "####### TOPOLOGY PARAMETERS #######\n",
    "if TOPOLOGY == 'Continental':\n",
    "    print('Continental topology')\n",
    "    # Continental topology\n",
    "    Nodes = 7 # Number of nodes\n",
    "    d_min, d_max = 400, 1100 # Min and max distances between nodes\n",
    "    d_max_req, d_avg_req = 1000, 300 # Max and average distances (REQUIRED)\n",
    "    # A requirement for the number of links\n",
    "    req_links = lambda x: x>=20 \n",
    "    \n",
    "elif TOPOLOGY == 'National':\n",
    "    print('National topology')\n",
    "    # National topology\n",
    "    Nodes = 4 # Number of nodes\n",
    "    d_min, d_max = 150, 450 # Min and max distances between nodes\n",
    "    d_max_req, d_avg_req = 400, 150 # Max and average distances (REQUIRED)    \n",
    "    # A requirement for the number of links\n",
    "    req_links = lambda x: x<=20 \n"
   ]
  },
  {
   "cell_type": "code",
   "execution_count": null,
   "metadata": {},
   "outputs": [],
   "source": [
    "# Generate the distances between nodes as weights of the edges\n",
    "distances = np.random.randint(d_min, d_max, size=(Nodes,Nodes))\n",
    "\n",
    "# Generate the adjacency matrix\n",
    "mask = np.random.choice([0, 1], size=(Nodes,Nodes), p=[1-density, density])\n",
    "a = np.multiply(distances, mask)\n",
    "\n",
    "# Force the matrix to be symmetric\n",
    "A = ((a + a.T)/2).astype(int)\n",
    "# Remove self loops\n",
    "np.fill_diagonal(A,0)\n",
    "\n",
    "# Create the graph\n",
    "G = nx.DiGraph(A)\n",
    "    \n",
    "N, E = list(G.nodes()), list(G.edges())\n",
    "weights = nx.get_edge_attributes(G,'weight')# set of lengths of each edge\n",
    "weight_avg = np.mean(list(weights.values()))\n",
    "weight_max = np.max(list(weights.values()))\n",
    "\n",
    "# Check if the topology satisfies the requirements\n",
    "print('Nodes:', N)\n",
    "print('Edges:', E)\n",
    "print('Is the number of links enough?', req_links(len(E)), f'(Number of links: {len(E)})')\n",
    "print(f'Avg. distance: {weight_avg:.2f}km, Max. distance: {weight_max}km')\n",
    "print(f'Avg. distance (REQUIRED): ~{d_avg_req} km, Max. distance (REQUIRED): ~{d_max_req}km')"
   ]
  },
  {
   "cell_type": "code",
   "execution_count": null,
   "metadata": {
    "execution": {
     "iopub.execute_input": "2023-02-22T23:01:38.154154Z",
     "iopub.status.busy": "2023-02-22T23:01:38.153698Z",
     "iopub.status.idle": "2023-02-22T23:01:38.166623Z",
     "shell.execute_reply": "2023-02-22T23:01:38.165328Z",
     "shell.execute_reply.started": "2023-02-22T23:01:38.154105Z"
    },
    "scrolled": true
   },
   "outputs": [],
   "source": [
    "# Generate traffic matrix\n",
    "demands = 150  # Number of demands\n",
    "D = [] # Tuple of 3 values: (s, d), b \n",
    "\n",
    "for d in range(demands):\n",
    "    s_d = random.sample(range(0, Nodes), 2)\n",
    "    D.append((s_d[0], s_d[1] , np.random.choice([100,150,200,250,300,350,400])))\n",
    "    \n",
    "offered_traff = sum([D[d][2] for d in range(demands)])\n",
    "print('Total offered traffic [Gbps]: ', offered_traff)"
   ]
  },
  {
   "cell_type": "code",
   "execution_count": 5,
   "metadata": {
    "execution": {
     "iopub.execute_input": "2023-02-22T23:01:46.928606Z",
     "iopub.status.busy": "2023-02-22T23:01:46.928212Z",
     "iopub.status.idle": "2023-02-22T23:01:46.946515Z",
     "shell.execute_reply": "2023-02-22T23:01:46.944895Z",
     "shell.execute_reply.started": "2023-02-22T23:01:46.928575Z"
    }
   },
   "outputs": [],
   "source": [
    "# Return 1 if path p uses link e\n",
    "def r_pe(p, e):\n",
    "    p_string = ''.join(str(i) for i in p)\n",
    "    e_string = ''.join(str(i) for i in e)\n",
    "    return e_string in p_string\n",
    "\n",
    "# Set of pre-computed slots for demand d.\n",
    "def C_d(d):\n",
    "    b_d = D[d][2]\n",
    "\n",
    "    b_0 = 200\n",
    "    b_1 = 400\n",
    "    \n",
    "    # For every modulation\n",
    "    for m in M: \n",
    "        # For m = 0 (modulation with 16QAM, bitrate 200Gbps, delta_f = 50GHz,  reach 900km)\n",
    "        if m == 0: \n",
    "            l = ceil(b_d/b_0)\n",
    "            # 2 slices of 25GHz = 50 GHz\n",
    "            number_of_slices = (l)*2\n",
    "\n",
    "            if number_of_slices == 2:\n",
    "                L1 = S[0::2]\n",
    "                L2 = S[1::2]\n",
    "                slots_m0 = list(zip(L1, L2))\n",
    "\n",
    "            if number_of_slices == 4:\n",
    "                L1 = S[0::2]\n",
    "                L2 = S[1::2]\n",
    "                L3 = S[2::2]\n",
    "                L4 = S[3::2]\n",
    "                slots_m0 = list(zip(L1, L2, L3, L4))\n",
    "\n",
    "        # For m = 0 (modulation with 16QAM, bitrate 200Gbps, delta_f = 50GHz,  reach 900km)\n",
    "        if m == 1:\n",
    "            l = ceil(b_d/b_1)\n",
    "            # 2 slices of 25GHz = 50 GHz\n",
    "            number_of_slices = (l)*3\n",
    "\n",
    "            if number_of_slices == 3:\n",
    "                L1 = S[0::3]\n",
    "                L2 = S[1::3]\n",
    "                L3 = S[2::3]\n",
    "                slots_m1 = list(zip(L1, L2, L3))\n",
    "\n",
    "            # WON'T HAPPEN, SINCE MAX BIT-RATE PER DEMAND IS LOWER THAN 400 Gbps\n",
    "            if number_of_slices == 6:\n",
    "                #print('4')\n",
    "                L1 = S[0::3]\n",
    "                L2 = S[1::3]\n",
    "                L3 = S[2::3]\n",
    "                L4 = S[3::3]\n",
    "                L5 = S[4::3]\n",
    "                L6 = S[5::3]\n",
    "                slots_m1 = list(zip(L1, L2, L3, L4, L5, L6))\n",
    "    return slots_m0 + slots_m1\n",
    "\n",
    "# Equals to 1 if slot c ∈ C(d) is computed for modulation format m\n",
    "def q_cm(c, m): \n",
    "    if m == 0 and (len(c)%2 == 0 or len(c)%4 == 0):\n",
    "        return True\n",
    "    if m == 1 and (len(c)%3 == 0 or len(c)%6 == 0):\n",
    "        return True\n",
    "    else: \n",
    "        return False \n",
    "\n",
    "# Equals to 1 if slot c uses slice s\n",
    "def q_cs(c, s): \n",
    "    c_string = ''.join(str(i) for i in c)\n",
    "    s_string = str(s)\n",
    "    return s_string in c_string"
   ]
  },
  {
   "cell_type": "code",
   "execution_count": null,
   "metadata": {
    "execution": {
     "iopub.execute_input": "2023-02-22T23:01:51.556279Z",
     "iopub.status.busy": "2023-02-22T23:01:51.555818Z",
     "iopub.status.idle": "2023-02-22T23:01:51.589155Z",
     "shell.execute_reply": "2023-02-22T23:01:51.587524Z",
     "shell.execute_reply.started": "2023-02-22T23:01:51.556238Z"
    }
   },
   "outputs": [],
   "source": [
    "# Parameters for ILP\n",
    "Capacity = 4.4*(10**3) #4.4THz\n",
    "\n",
    "######################## Topology:\n",
    "N = list(G.nodes()) # Set of nodes\n",
    "E = list(G.edges()) # Set of enges\n",
    "len_e = nx.get_edge_attributes(G,'weight') # Set of lengths of each edge\n",
    "\n",
    "#################### Demands and Paths:\n",
    "#D <-defined before\n",
    "k = 3 # Shortest paths\n",
    "P_d = [] # Subset of pre-computed paths for demand d\n",
    "len_p = [] # Length of each precomputed path for the demand set\n",
    "\n",
    "for d in range(demands):\n",
    "    s = D[d][0]\n",
    "    t = D[d][1]\n",
    "    paths_list = k_shortest_paths(G, s, t,k, 'weight') # k shortest paths\n",
    "    len_p.append([nx.path_weight(G, path, weight=\"weight\") for path in paths_list]) # distances of the paths\n",
    "    \n",
    "    paths_tuples = []\n",
    "    for p in paths_list:\n",
    "        paths_tuples.append(tuple(p))\n",
    "    P_d.append(paths_tuples)\n",
    "\n",
    "#r_pe <-defined before\n",
    "\n",
    "########################### Spectrum and Modulation Format\n",
    "slice_width = 25 # GHz\n",
    "S = list(range(0,int(Capacity/slice_width))) # Set of slices, each is 25GHz\n",
    "print('Total # slices: ', len(S))\n",
    "\n",
    "#C_d <-defined before\n",
    "\n",
    "M = [0, 1] # Modulation formats (0 - 50GHz, 1 - 75 GHz)\n",
    "len_m = [900, 600] # Reachability of the modulation formats\n",
    "\n",
    "#q_cm <-defined before\n",
    "#q_cs <-defined before"
   ]
  },
  {
   "cell_type": "code",
   "execution_count": null,
   "metadata": {
    "execution": {
     "iopub.execute_input": "2023-02-22T23:02:07.540320Z",
     "iopub.status.busy": "2023-02-22T23:02:07.539888Z",
     "iopub.status.idle": "2023-02-22T23:02:07.567802Z",
     "shell.execute_reply": "2023-02-22T23:02:07.566557Z",
     "shell.execute_reply.started": "2023-02-22T23:02:07.540288Z"
    }
   },
   "outputs": [],
   "source": [
    "####################################### ILP\n",
    "model = gp.Model()\n",
    "############################## Decision variables\n",
    "#equal to 1 if demand d cannot be served\n",
    "w = model.addVars(gp.tuplelist(range(demands)), vtype=GRB.BINARY)\n",
    "\n",
    "#equal to 1 if demand d is routed through path p and slot c.\n",
    "x = model.addVars(gp.tuplelist([(d, p, c) for d in range(demands) for p in P_d[d] for c in C_d(d)]), vtype=GRB.BINARY) \n",
    "                                \n",
    "\n",
    "#number of times demand d modulated with m got regenerated\n",
    "v = model.addVars(gp.tuplelist([(d, m) for d in range(demands) for m in M]), vtype=GRB.INTEGER, lb = 0)\n",
    "\n",
    "#equal to 1 if demand d is routed through path p and slot c exceeds the reachability.\n",
    "#v = {(d, p, c):model.add_var(var_type=BINARY,name = 'v_'+str(d)+'_'+str(p)+'_'+str(c)) \n",
    "#     for d in range(demands) for p in P_d[d] for c in C_d(d)}"
   ]
  },
  {
   "cell_type": "code",
   "execution_count": 9,
   "metadata": {
    "execution": {
     "iopub.execute_input": "2023-02-22T23:29:57.339675Z",
     "iopub.status.busy": "2023-02-22T23:29:57.339212Z",
     "iopub.status.idle": "2023-02-22T23:29:57.349514Z",
     "shell.execute_reply": "2023-02-22T23:29:57.348578Z",
     "shell.execute_reply.started": "2023-02-22T23:29:57.339632Z"
    }
   },
   "outputs": [],
   "source": [
    "# Objective function: minimize blocked traffic (first term, priority) \n",
    "# and the amound of regenerations (second term, less important wrt the first one)\n",
    "\n",
    "model.setObjective(gp.quicksum(D[d][2]*w[d] for d in range(demands)) +\n",
    "                              100*gp.quicksum(2*v[d,m] for d in range(demands) for m in M),GRB.MINIMIZE) "
   ]
  },
  {
   "cell_type": "code",
   "execution_count": null,
   "metadata": {
    "execution": {
     "iopub.execute_input": "2023-02-22T23:29:58.993803Z",
     "iopub.status.busy": "2023-02-22T23:29:58.993394Z",
     "iopub.status.idle": "2023-02-22T23:39:11.095348Z",
     "shell.execute_reply": "2023-02-22T23:39:11.094144Z",
     "shell.execute_reply.started": "2023-02-22T23:29:58.993771Z"
    }
   },
   "outputs": [],
   "source": [
    "# Constraints\n",
    "\n",
    "for d in range(demands):\n",
    "    model.addConstr(gp.quicksum(x[d, p, c] for p in P_d[d] for c in C_d(d)) + w[d] == 1)\n",
    "\n",
    "for d in range(demands):\n",
    "    for m in M:\n",
    "        model.addConstr(gp.quicksum(q_cm(c, m)*len_p[d][p_id] * x[d, p, c] \n",
    "                         for p_id, p in enumerate(P_d[d]) for c in C_d(d)) <= len_m[m]+ v[d,m]*len_m[m] )\n",
    "        \n",
    "for e in E:\n",
    "    start_time1 = time.time()\n",
    "    for s in S:\n",
    "        model.addConstr(gp.quicksum(r_pe(p, e)*q_cs(c, s) * x[d, p, c] \n",
    "                                  for d in range(demands) for p in P_d[d] for c in C_d(d)) <= 1)\n",
    "    end_time1 = time.time()\n",
    "    print(\"Time to consider one link is is {:.2f} min\".format((end_time1-start_time1)/60), sep='\\n', end='\\n', flush=True)\n",
    "\n",
    "model.write('model.lp')"
   ]
  },
  {
   "cell_type": "code",
   "execution_count": null,
   "metadata": {
    "execution": {
     "iopub.execute_input": "2023-02-22T23:42:00.673975Z",
     "iopub.status.busy": "2023-02-22T23:42:00.673509Z",
     "iopub.status.idle": "2023-02-22T23:42:00.710744Z",
     "shell.execute_reply": "2023-02-22T23:42:00.709242Z",
     "shell.execute_reply.started": "2023-02-22T23:42:00.673938Z"
    },
    "scrolled": true
   },
   "outputs": [],
   "source": [
    "start_time2 = time.time()\n",
    "model.optimize()\n",
    "end_time2 = time.time()\n",
    "print(\"Time to optimize the model is {:.2f} min\".format((end_time2-start_time2)/60))"
   ]
  },
  {
   "cell_type": "code",
   "execution_count": null,
   "metadata": {},
   "outputs": [],
   "source": [
    "obj = model.getObjective()\n",
    "print('Total offered traffic:', offered_traff)\n",
    "print('Total dropped traffic:', obj.getValue())\n",
    "print('Blocking probability: ',obj.getValue()/offered_traff)"
   ]
  },
  {
   "cell_type": "code",
   "execution_count": null,
   "metadata": {},
   "outputs": [],
   "source": [
    "mod_var = model.getVars()\n",
    "mod_var"
   ]
  }
 ],
 "metadata": {
  "kernelspec": {
   "display_name": "Python 3 (ipykernel)",
   "language": "python",
   "name": "python3"
  },
  "language_info": {
   "codemirror_mode": {
    "name": "ipython",
    "version": 3
   },
   "file_extension": ".py",
   "mimetype": "text/x-python",
   "name": "python",
   "nbconvert_exporter": "python",
   "pygments_lexer": "ipython3",
   "version": "3.9.7"
  }
 },
 "nbformat": 4,
 "nbformat_minor": 4
}
