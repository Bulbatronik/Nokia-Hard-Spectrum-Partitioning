{
 "cells": [
  {
   "cell_type": "code",
   "execution_count": 32,
   "metadata": {},
   "outputs": [],
   "source": [
    "import os\n",
    "import pandas as pd\n",
    "import matplotlib.pyplot as plt"
   ]
  },
  {
   "cell_type": "code",
   "execution_count": 33,
   "metadata": {},
   "outputs": [],
   "source": [
    "# List filenames in the folder\n",
    "files = os.listdir('results')\n",
    "os.makedirs('plots', exist_ok=True)\n",
    "files_ff = [f for f in files if f.startswith('FF')]\n",
    "files_ga = [f for f in files if f.startswith('GA')]"
   ]
  },
  {
   "cell_type": "code",
   "execution_count": null,
   "metadata": {},
   "outputs": [],
   "source": [
    "# Create three subplots, each showing a different metric\n",
    "fig, axes = plt.subplots(1, 2, figsize=(18, 6))\n",
    "\n",
    "# Visualize the results for the First Fit algorithm\n",
    "for file in files_ff:\n",
    "    # Read the file\n",
    "    df = pd.read_csv('results/' + file)\n",
    "    # Get the algorithm, partitioning and topology\n",
    "    algorithm = file.split('_')[0]\n",
    "    partitioning = file.split('_')[1]\n",
    "    topology = file.split('_')[2]\n",
    "    # Get the border for hard partitioning\n",
    "    if partitioning == 'Hard':\n",
    "        border = file[-7:-4] # ignore the .csv\n",
    "    \n",
    "    label = (partitioning + border) if partitioning == 'Hard' else partitioning\n",
    "    # Plot the blocking probability\n",
    "    axes[0].semilogy(df['traff_mean'], df['bp_mean'], label=label)\n",
    "    axes[0].fill_between(df['traff_mean'], df['bp_mean'] - df['bp_conf'], df['bp_mean'] + df['bp_conf'], alpha=0.3)\n",
    "    axes[0].set_title(f\"Average blocking probability vs Offered traffic ({algorithm})\", fontsize=16)\n",
    "    axes[0].set_ylabel(\"Average blocking probability\", fontsize=14)\n",
    "    axes[0].set_xlabel(\"Offered traffic, [Gbps]\", fontsize=14)\n",
    "    axes[0].legend(fontsize=12, loc='upper left')\n",
    "    axes[0].tick_params(axis='both', which='major', labelsize=12)\n",
    "    axes[0].grid(which='major', linestyle=':', linewidth='0.5', color='black')\n",
    "\n",
    "\n",
    "    # Plot the cost\n",
    "    axes[1].plot(df['traff_mean'], df['cost_mean'], label=label)\n",
    "    axes[1].fill_between(df['traff_mean'], df['cost_mean'] - df['cost_conf'], df['cost_mean'] + df['cost_conf'], alpha=0.3)\n",
    "    axes[1].set_title(f\"Average cost vs Offered traffic ({algorithm})\", fontsize=16)\n",
    "    axes[1].set_ylabel(\"Average cost\", fontsize=14)\n",
    "    axes[1].set_xlabel(\"Offered traffic, [Gbps]\", fontsize=14)\n",
    "    axes[1].legend(fontsize=12, loc='upper left')\n",
    "    axes[1].tick_params(axis='both', which='major', labelsize=12)\n",
    "    axes[1].grid(which='major', linestyle=':', linewidth='0.5', color='black')\n",
    "fig.savefig('plots/FF.png', dpi=300, bbox_inches='tight')"
   ]
  },
  {
   "cell_type": "code",
   "execution_count": null,
   "metadata": {},
   "outputs": [],
   "source": [
    "# Create three subplots, each showing a different metric\n",
    "fig, axes = plt.subplots(1, 2, figsize=(18, 6))\n",
    "\n",
    "# Visualize the results for the genetic algorithm\n",
    "for file in files_ga:\n",
    "    # Read the file\n",
    "    df = pd.read_csv('results/' + file)\n",
    "    # Get the algorithm, partitioning and topology\n",
    "    algorithm = file.split('_')[0]\n",
    "    partitioning = file.split('_')[1]\n",
    "    topology = file.split('_')[2]\n",
    "    # Get the border for hard partitioning\n",
    "    if partitioning == 'Hard':\n",
    "        border = file[-7:-4] # ignore the .csv\n",
    "    \n",
    "    label = (partitioning + border) if partitioning == 'Hard' else partitioning\n",
    "    # Plot the blocking probability\n",
    "    axes[0].semilogy(df['traff_mean'], df['bp_mean'], label=label)\n",
    "    axes[0].fill_between(df['traff_mean'], df['bp_mean'] - df['bp_conf'], df['bp_mean'] + df['bp_conf'], alpha=0.3)\n",
    "    axes[0].set_title(f\"Average blocking probability vs Offered traffic ({algorithm})\", fontsize=16)\n",
    "    axes[0].set_ylabel(\"Average blocking probability\", fontsize=14)\n",
    "    axes[0].set_xlabel(\"Offered traffic, [Gbps]\", fontsize=14)\n",
    "    axes[0].legend(fontsize=12, loc='upper left')\n",
    "    axes[0].tick_params(axis='both', which='major', labelsize=12)\n",
    "    axes[0].grid(which='major', linestyle=':', linewidth='0.5', color='black')\n",
    "\n",
    "\n",
    "    # Plot the cost\n",
    "    axes[1].plot(df['traff_mean'], df['cost_mean'], label=label)\n",
    "    axes[1].fill_between(df['traff_mean'], df['cost_mean'] - df['cost_conf'], df['cost_mean'] + df['cost_conf'], alpha=0.3)\n",
    "    axes[1].set_title(f\"Average cost vs Offered traffic ({algorithm})\", fontsize=16)\n",
    "    axes[1].set_ylabel(\"Average cost\", fontsize=14)\n",
    "    axes[1].set_xlabel(\"Offered traffic, [Gbps]\", fontsize=14)\n",
    "    axes[1].legend(fontsize=12, loc='upper left')\n",
    "    axes[1].tick_params(axis='both', which='major', labelsize=12)\n",
    "    axes[1].grid(which='major', linestyle=':', linewidth='0.5', color='black')\n",
    "fig.savefig('plots/GA.png', dpi=300, bbox_inches='tight')"
   ]
  }
 ],
 "metadata": {
  "kernelspec": {
   "display_name": "cnd_env",
   "language": "python",
   "name": "python3"
  },
  "language_info": {
   "codemirror_mode": {
    "name": "ipython",
    "version": 3
   },
   "file_extension": ".py",
   "mimetype": "text/x-python",
   "name": "python",
   "nbconvert_exporter": "python",
   "pygments_lexer": "ipython3",
   "version": "3.12.6"
  }
 },
 "nbformat": 4,
 "nbformat_minor": 2
}
